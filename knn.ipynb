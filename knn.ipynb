{
 "cells": [
  {
   "cell_type": "markdown",
   "id": "f6465314",
   "metadata": {},
   "source": [
    "# Antrenarea si evaluarea unui model de baza\n",
    "\n",
    "## K-Nearest Neighbors (KNN)"
   ]
  },
  {
   "cell_type": "code",
   "execution_count": 6,
   "id": "ca8e884d",
   "metadata": {},
   "outputs": [
    {
     "name": "stdout",
     "output_type": "stream",
     "text": [
      "              precision    recall  f1-score   support\n",
      "\n",
      "           0       0.74      0.80      0.76       836\n",
      "           1       0.78      0.71      0.74       836\n",
      "\n",
      "    accuracy                           0.75      1672\n",
      "   macro avg       0.76      0.75      0.75      1672\n",
      "weighted avg       0.76      0.75      0.75      1672\n",
      "\n",
      "0.7547846889952153\n"
     ]
    }
   ],
   "source": [
    "import numpy as np\n",
    "import matplotlib.pyplot as plt\n",
    "\n",
    "import pandas as pd\n",
    "import seaborn as sns\n",
    "\n",
    "from sklearn.model_selection import train_test_split\n",
    "\n",
    "train = pd.read_csv('train_final.csv')\n",
    "test = pd.read_csv('test_final.csv')\n",
    "\n",
    "# KNN\n",
    "from sklearn.neighbors import KNeighborsClassifier\n",
    "from sklearn.metrics import accuracy_score, classification_report, confusion_matrix\n",
    "\n",
    "knn = KNeighborsClassifier(n_neighbors=50)\n",
    "\n",
    "X_train = train.drop(columns=['dlq_2yrs'])\n",
    "y_train = train['dlq_2yrs']\n",
    "\n",
    "X_test = test.drop(columns=['dlq_2yrs'])\n",
    "y_test = test['dlq_2yrs']\n",
    "\n",
    "knn.fit(X_train, y_train)\n",
    "\n",
    "y_pred = knn.predict(X_test)\n",
    "\n",
    "print(classification_report(y_test, y_pred))\n",
    "print(accuracy_score(y_test, y_pred))"
   ]
  },
  {
   "cell_type": "markdown",
   "id": "759501f5",
   "metadata": {},
   "source": [
    "Asadar, putem sa rescriem mai frumos...\n",
    "\n",
    "| Clasa    | Precizie | Recall | F1-Score | Acuratete |\n",
    "|----------|----------|--------|----------|-----------|\n",
    "| 0        | 0.74     | 0.80   | 0.76     |           |\n",
    "| 1        | 0.78     | 0.71   | 0.74     |           |\n",
    "| dlq_2yrs | 0.76     | 0.75   | 0.75     | 0.75      |"
   ]
  },
  {
   "cell_type": "code",
   "execution_count": 12,
   "id": "9687dbfd",
   "metadata": {},
   "outputs": [
    {
     "data": {
      "image/png": "[encoded data removed]",
      "text/plain": [
       "<Figure size 640x480 with 2 Axes>"
      ]
     },
     "metadata": {},
     "output_type": "display_data"
    }
   ],
   "source": [
    "from sklearn.metrics import ConfusionMatrixDisplay\n",
    "\n",
    "ConfusionMatrixDisplay.from_estimator(knn, X_test, y_test, cmap='Purples')\n",
    "plt.title(\"Matricea de confuzie\")\n",
    "plt.savefig(\"confusion_matrix_knn.png\")\n",
    "plt.show()"
   ]
  }
 ],
 "metadata": {
  "kernelspec": {
   "display_name": "Python 3",
   "language": "python",
   "name": "python3"
  },
  "language_info": {
   "codemirror_mode": {
    "name": "ipython",
    "version": 3
   },
   "file_extension": ".py",
   "mimetype": "text/x-python",
   "name": "python",
   "nbconvert_exporter": "python",
   "pygments_lexer": "ipython3",
   "version": "3.13.3"
  }
 },
 "nbformat": 4,
 "nbformat_minor": 5
}
